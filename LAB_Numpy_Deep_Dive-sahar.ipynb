{
  "cells": [
    {
      "cell_type": "markdown",
      "metadata": {
        "id": "jVA4l8jrlzrA"
      },
      "source": [
        "# Lab | Numpy Deep Dive"
      ]
    },
    {
      "cell_type": "markdown",
      "metadata": {
        "id": "ZArKqb_KlzrD"
      },
      "source": [
        "### 1. Import the NUMPY package under the name np.\n"
      ]
    },
    {
      "cell_type": "code",
      "execution_count": 36,
      "metadata": {
        "colab": {
          "base_uri": "https://localhost:8080/"
        },
        "id": "KynfPj1ylzrE",
        "outputId": "72457a34-5d85-45bd-a277-6c97a2739f0a"
      },
      "outputs": [
        {
          "output_type": "stream",
          "name": "stdout",
          "text": [
            "[4 5 3 4 9]\n"
          ]
        }
      ],
      "source": [
        "### [your code here]\n",
        "import numpy as np\n",
        "\n",
        "arr = np.array([4, 5, 3, 4, 9])\n",
        "print(arr)\n"
      ]
    },
    {
      "cell_type": "markdown",
      "metadata": {
        "id": "CJh7aEb8lzrF"
      },
      "source": [
        "\n",
        "\n",
        "---\n",
        "\n",
        "\n",
        "\n",
        "### 2. Print the NUMPY version and the configuration.\n"
      ]
    },
    {
      "cell_type": "code",
      "execution_count": 37,
      "metadata": {
        "colab": {
          "base_uri": "https://localhost:8080/"
        },
        "id": "0k-VuBVzlzrG",
        "outputId": "f0ec5769-97c2-462f-ee6c-33bf419f1f8a"
      },
      "outputs": [
        {
          "output_type": "stream",
          "name": "stdout",
          "text": [
            "NumPy Version: 1.26.4\n",
            "Build Dependencies:\n",
            "  blas:\n",
            "    detection method: pkgconfig\n",
            "    found: true\n",
            "    include directory: /usr/local/include\n",
            "    lib directory: /usr/local/lib\n",
            "    name: openblas64\n",
            "    openblas configuration: USE_64BITINT=1 DYNAMIC_ARCH=1 DYNAMIC_OLDER= NO_CBLAS=\n",
            "      NO_LAPACK= NO_LAPACKE= NO_AFFINITY=1 USE_OPENMP= HASWELL MAX_THREADS=2\n",
            "    pc file directory: /usr/local/lib/pkgconfig\n",
            "    version: 0.3.23.dev\n",
            "  lapack:\n",
            "    detection method: internal\n",
            "    found: true\n",
            "    include directory: unknown\n",
            "    lib directory: unknown\n",
            "    name: dep140213194937296\n",
            "    openblas configuration: unknown\n",
            "    pc file directory: unknown\n",
            "    version: 1.26.4\n",
            "Compilers:\n",
            "  c:\n",
            "    args: -fno-strict-aliasing\n",
            "    commands: cc\n",
            "    linker: ld.bfd\n",
            "    linker args: -Wl,--strip-debug, -fno-strict-aliasing\n",
            "    name: gcc\n",
            "    version: 10.2.1\n",
            "  c++:\n",
            "    commands: c++\n",
            "    linker: ld.bfd\n",
            "    linker args: -Wl,--strip-debug\n",
            "    name: gcc\n",
            "    version: 10.2.1\n",
            "  cython:\n",
            "    commands: cython\n",
            "    linker: cython\n",
            "    name: cython\n",
            "    version: 3.0.8\n",
            "Machine Information:\n",
            "  build:\n",
            "    cpu: x86_64\n",
            "    endian: little\n",
            "    family: x86_64\n",
            "    system: linux\n",
            "  host:\n",
            "    cpu: x86_64\n",
            "    endian: little\n",
            "    family: x86_64\n",
            "    system: linux\n",
            "Python Information:\n",
            "  path: /opt/python/cp311-cp311/bin/python\n",
            "  version: '3.11'\n",
            "SIMD Extensions:\n",
            "  baseline:\n",
            "  - SSE\n",
            "  - SSE2\n",
            "  - SSE3\n",
            "  found:\n",
            "  - SSSE3\n",
            "  - SSE41\n",
            "  - POPCNT\n",
            "  - SSE42\n",
            "  - AVX\n",
            "  - F16C\n",
            "  - FMA3\n",
            "  - AVX2\n",
            "  not found:\n",
            "  - AVX512F\n",
            "  - AVX512CD\n",
            "  - AVX512_KNL\n",
            "  - AVX512_KNM\n",
            "  - AVX512_SKX\n",
            "  - AVX512_CLX\n",
            "  - AVX512_CNL\n",
            "  - AVX512_ICL\n",
            "\n"
          ]
        }
      ],
      "source": [
        "### [your code here]\n",
        "import numpy as np\n",
        "\n",
        "print(\"NumPy Version:\", np.__version__)\n",
        "\n",
        "np.show_config()\n"
      ]
    },
    {
      "cell_type": "markdown",
      "metadata": {
        "id": "keG8-HnVlzrG"
      },
      "source": [
        "### 3. Generate a 2x3x5 3-dimensional array with random values. Assign the array to variable \"a\"\n",
        "Challenge: there are at least three easy ways that use numpy to generate random arrays. How many ways can you find?\n"
      ]
    },
    {
      "cell_type": "code",
      "execution_count": 38,
      "metadata": {
        "colab": {
          "base_uri": "https://localhost:8080/"
        },
        "id": "MuZJBeAElzrH",
        "outputId": "a79df1df-420f-444b-d610-2fadd152a432"
      },
      "outputs": [
        {
          "output_type": "stream",
          "name": "stdout",
          "text": [
            "[[[4.00924655e-01 4.00280836e-01 9.21675515e-02 6.93922743e-01\n",
            "   4.89188640e-01]\n",
            "  [3.85520791e-01 7.02988086e-04 2.89406386e-01 2.01367098e-01\n",
            "   9.28164806e-01]\n",
            "  [8.15117597e-01 1.58151712e-01 3.42241210e-01 6.13465263e-01\n",
            "   1.70903596e-01]]\n",
            "\n",
            " [[5.51944269e-01 7.51496453e-01 2.84398996e-01 1.09307896e-01\n",
            "   1.02168759e-01]\n",
            "  [9.77520455e-01 1.82534816e-01 5.43225707e-01 3.30121336e-01\n",
            "   6.62411427e-01]\n",
            "  [8.57023708e-02 9.80207895e-02 7.74964529e-01 1.86602854e-01\n",
            "   7.93994805e-01]]]\n",
            "[[[0.85295426 0.39274958 0.69537321 0.13067911 0.50790146]\n",
            "  [0.90603568 0.06794408 0.11690689 0.9190366  0.19075436]\n",
            "  [0.55957768 0.08433322 0.06917735 0.78844254 0.69945304]]\n",
            "\n",
            " [[0.78987861 0.45346075 0.01783496 0.87006623 0.00520481]\n",
            "  [0.49921883 0.56738806 0.1913215  0.42836827 0.8401404 ]\n",
            "  [0.44430911 0.51624073 0.18058407 0.12971309 0.77588275]]]\n",
            "[[[-1.7235828   0.40027189 -1.42442496 -0.17927749  0.11543661]\n",
            "  [ 0.24829113 -1.18313967  1.40538404 -1.05655395  0.95074596]\n",
            "  [ 0.30481548  0.61291928  0.96762121 -0.86416446 -0.39508397]]\n",
            "\n",
            " [[-0.42091798  0.10011989 -0.18494652  0.1296174  -0.69470526]\n",
            "  [ 0.88526978  0.6548037  -0.28112559  0.92267027 -0.50660794]\n",
            "  [-0.1763448  -0.82757346 -0.54900554 -0.87305565  1.25246258]]]\n",
            "[[[30 94 74 70 56]\n",
            "  [93 36 67 88 41]\n",
            "  [67 33 50 83 50]]\n",
            "\n",
            " [[91 15 87 83  2]\n",
            "  [ 8 71 80 59 33]\n",
            "  [88 52 39 90 91]]]\n"
          ]
        }
      ],
      "source": [
        "### [your code here]\n",
        "# we have 4 ways\n",
        "\n",
        "import numpy as np\n",
        "\n",
        "# 1- Create a 3D array (2, 3, 5) with random values between 0 and 1\n",
        "a = np.random.random((2, 3, 5))\n",
        "\n",
        "print(a)\n",
        "\n",
        "# 2- takes dimensions as separate arguments instead of a tuple\n",
        "a = np.random.rand(2, 3, 5)\n",
        "print(a)\n",
        "\n",
        "# 3- Generates random numbers from a standard normal distribution (mean 0, standard deviation 1).\n",
        "a = np.random.randn(2, 3, 5)\n",
        "print(a)\n",
        "\n",
        "# 4- Generates random integers between 0 and 100.\n",
        "a = np.random.randint(0, 100, (2, 3, 5))\n",
        "print(a)"
      ]
    },
    {
      "cell_type": "markdown",
      "metadata": {
        "id": "Xe1MtecVlzrH"
      },
      "source": [
        "\n",
        "\n",
        "```\n",
        "# This is formatted as code\n",
        "```\n",
        "\n",
        "\n",
        "### 4. Print a.\n"
      ]
    },
    {
      "cell_type": "code",
      "execution_count": 39,
      "metadata": {
        "colab": {
          "base_uri": "https://localhost:8080/"
        },
        "id": "sE7RdDDulzrI",
        "outputId": "76e7920d-6277-4ca5-e8f6-bbb35cee86b5"
      },
      "outputs": [
        {
          "output_type": "stream",
          "name": "stdout",
          "text": [
            "Array a:\n",
            " [[[30 94 74 70 56]\n",
            "  [93 36 67 88 41]\n",
            "  [67 33 50 83 50]]\n",
            "\n",
            " [[91 15 87 83  2]\n",
            "  [ 8 71 80 59 33]\n",
            "  [88 52 39 90 91]]]\n"
          ]
        }
      ],
      "source": [
        "### [your code here]\n",
        "import numpy as np\n",
        "\n",
        "print(\"Array a:\\n\", a)\n",
        "\n"
      ]
    },
    {
      "cell_type": "markdown",
      "metadata": {
        "id": "BaFG50WRlzrI"
      },
      "source": [
        "### 5. Create a 5x2x3 3-dimensional array with all values equaling 1.\n",
        "### Assign the array to variable \"b\"\n"
      ]
    },
    {
      "cell_type": "code",
      "execution_count": 40,
      "metadata": {
        "colab": {
          "base_uri": "https://localhost:8080/"
        },
        "id": "3MI_Rod8lzrJ",
        "outputId": "a534a339-74a1-49cd-aaf2-6813a018c62e"
      },
      "outputs": [
        {
          "output_type": "stream",
          "name": "stdout",
          "text": [
            "[[[1. 1. 1.]\n",
            "  [1. 1. 1.]]\n",
            "\n",
            " [[1. 1. 1.]\n",
            "  [1. 1. 1.]]\n",
            "\n",
            " [[1. 1. 1.]\n",
            "  [1. 1. 1.]]\n",
            "\n",
            " [[1. 1. 1.]\n",
            "  [1. 1. 1.]]\n",
            "\n",
            " [[1. 1. 1.]\n",
            "  [1. 1. 1.]]]\n"
          ]
        }
      ],
      "source": [
        "### [your code here]\n",
        "import numpy as np\n",
        "\n",
        "b = np.ones((5, 2, 3))\n",
        "\n",
        "print(b)\n"
      ]
    },
    {
      "cell_type": "markdown",
      "metadata": {
        "id": "Zm8nvtqJlzrK"
      },
      "source": [
        "\n",
        "### 6. Print b.\n"
      ]
    },
    {
      "cell_type": "code",
      "execution_count": 41,
      "metadata": {
        "colab": {
          "base_uri": "https://localhost:8080/"
        },
        "id": "IDFjACdwlzrK",
        "outputId": "f916315d-0562-4a36-d335-78f2f419ec8e"
      },
      "outputs": [
        {
          "output_type": "stream",
          "name": "stdout",
          "text": [
            "Array b:\n",
            " [[[1. 1. 1.]\n",
            "  [1. 1. 1.]]\n",
            "\n",
            " [[1. 1. 1.]\n",
            "  [1. 1. 1.]]\n",
            "\n",
            " [[1. 1. 1.]\n",
            "  [1. 1. 1.]]\n",
            "\n",
            " [[1. 1. 1.]\n",
            "  [1. 1. 1.]]\n",
            "\n",
            " [[1. 1. 1.]\n",
            "  [1. 1. 1.]]]\n"
          ]
        }
      ],
      "source": [
        "### [your code here]\n",
        "import numpy as np\n",
        "print(\"Array b:\\n\", b)\n"
      ]
    },
    {
      "cell_type": "markdown",
      "metadata": {
        "id": "qNlAqZWPlzrL"
      },
      "source": [
        "\n",
        "### 7. Do a and b have the same size? How do you prove that in Python code?\n"
      ]
    },
    {
      "cell_type": "code",
      "execution_count": 42,
      "metadata": {
        "colab": {
          "base_uri": "https://localhost:8080/"
        },
        "id": "2SEXlmCYlzrL",
        "outputId": "5f055f3e-78b7-40c4-d076-1d299ac92088"
      },
      "outputs": [
        {
          "output_type": "stream",
          "name": "stdout",
          "text": [
            "Size of a: 288\n",
            "Size of b: 225\n",
            "Do 'a' and 'b' have the same size? False\n"
          ]
        }
      ],
      "source": [
        "### [your code here]\n",
        "# Check if 'a' and 'b' have the same size\n",
        "import numpy as np\n",
        "\n",
        "a = np.random.random((8, 4, 9))\n",
        "b = np.ones((5, 15, 3))\n",
        "\n",
        "# Check if sizes are the same\n",
        "same_size = a.size == b.size\n",
        "\n",
        "print(\"Size of a:\", a.size)\n",
        "print(\"Size of b:\", b.size)\n",
        "print(\"Do 'a' and 'b' have the same size?\", same_size)\n"
      ]
    },
    {
      "cell_type": "markdown",
      "metadata": {
        "id": "G9EsmhgjlzrM"
      },
      "source": [
        "\n",
        "### 8. Are you able to add a and b? Why or why not?\n"
      ]
    },
    {
      "cell_type": "code",
      "execution_count": 43,
      "metadata": {
        "colab": {
          "base_uri": "https://localhost:8080/"
        },
        "id": "197F1hZIlzrN",
        "outputId": "fd6d01b7-e00f-4977-c9f7-adeea0262787"
      },
      "outputs": [
        {
          "output_type": "stream",
          "name": "stdout",
          "text": [
            "Error: operands could not be broadcast together with shapes (8,4,9) (5,15,3) \n"
          ]
        }
      ],
      "source": [
        "### [your code here]\n",
        "try:\n",
        "    c = a + b\n",
        "    print(\"Addition successful!\")\n",
        "    print(c)\n",
        "except ValueError as e:\n",
        "    print(\"Error:\", e)\n"
      ]
    },
    {
      "cell_type": "markdown",
      "metadata": {
        "id": "EaShoLmylzrN"
      },
      "source": [
        "\n",
        "\n",
        "### 9. Transpose b so that it has the same structure of a (i.e. become a 2x3x5 array). Assign the transposed array to varialbe \"c\".\n"
      ]
    },
    {
      "cell_type": "code",
      "execution_count": 44,
      "metadata": {
        "colab": {
          "base_uri": "https://localhost:8080/"
        },
        "id": "G3R4pMsNlzrN",
        "outputId": "f3222bc4-bbf0-449c-fd0e-aae20c799c19"
      },
      "outputs": [
        {
          "output_type": "stream",
          "name": "stdout",
          "text": [
            "Array c (Transposed b):\n",
            " [[[1. 1. 1. 1. 1.]\n",
            "  [1. 1. 1. 1. 1.]\n",
            "  [1. 1. 1. 1. 1.]]\n",
            "\n",
            " [[1. 1. 1. 1. 1.]\n",
            "  [1. 1. 1. 1. 1.]\n",
            "  [1. 1. 1. 1. 1.]]]\n"
          ]
        }
      ],
      "source": [
        "### [your code here]\n",
        "import numpy as np\n",
        "\n",
        "a = np.random.rand(2, 3, 5)\n",
        "b = np.ones((5, 2, 3))\n",
        "\n",
        "c = b.transpose(1, 2, 0)\n",
        "\n",
        "print(\"Array c (Transposed b):\\n\", c)"
      ]
    },
    {
      "cell_type": "markdown",
      "metadata": {
        "id": "YcMTtLt7lzrO"
      },
      "source": [
        "\n",
        "### 10. Try to add a and c. Now it should work. Assign the sum to variable \"d\". But why does it work now?\n"
      ]
    },
    {
      "cell_type": "code",
      "execution_count": 45,
      "metadata": {
        "colab": {
          "base_uri": "https://localhost:8080/"
        },
        "id": "NoYwPIrdlzrO",
        "outputId": "ba49781a-69f5-4a84-fc7f-71193f1588c3"
      },
      "outputs": [
        {
          "output_type": "stream",
          "name": "stdout",
          "text": [
            "Array d (sum of a and c):\n",
            " [[[1.41854323 1.88837047 1.79197603 1.53890355 1.95529626]\n",
            "  [1.08978441 1.36974197 1.09148916 1.53155819 1.52170819]\n",
            "  [1.79942871 1.63197885 1.65973256 1.17769137 1.03116896]]\n",
            "\n",
            " [[1.71858307 1.06593795 1.31221892 1.88194127 1.01249659]\n",
            "  [1.57256212 1.51081406 1.1367094  1.12927702 1.05309469]\n",
            "  [1.20327602 1.18881602 1.99673839 1.27322474 1.13392483]]]\n"
          ]
        }
      ],
      "source": [
        "### [your code here]\n",
        "d = a + c\n",
        "\n",
        "print(\"Array d (sum of a and c):\\n\", d)"
      ]
    },
    {
      "cell_type": "markdown",
      "metadata": {
        "id": "xHc6VivnlzrO"
      },
      "source": [
        "\n",
        "### 11. Print a and d. Notice the difference and relation of the two array in terms of the values? Explain.\n"
      ]
    },
    {
      "cell_type": "code",
      "execution_count": 46,
      "metadata": {
        "colab": {
          "base_uri": "https://localhost:8080/"
        },
        "id": "j5ib4P4GlzrO",
        "outputId": "8de4eb4e-1cdb-49e0-a8c3-0f2d13b5eff6"
      },
      "outputs": [
        {
          "output_type": "stream",
          "name": "stdout",
          "text": [
            "Array a:\n",
            " [[[0.41854323 0.88837047 0.79197603 0.53890355 0.95529626]\n",
            "  [0.08978441 0.36974197 0.09148916 0.53155819 0.52170819]\n",
            "  [0.79942871 0.63197885 0.65973256 0.17769137 0.03116896]]\n",
            "\n",
            " [[0.71858307 0.06593795 0.31221892 0.88194127 0.01249659]\n",
            "  [0.57256212 0.51081406 0.1367094  0.12927702 0.05309469]\n",
            "  [0.20327602 0.18881602 0.99673839 0.27322474 0.13392483]]]\n",
            "\n",
            "Array d (sum of a and c):\n",
            " [[[1.41854323 1.88837047 1.79197603 1.53890355 1.95529626]\n",
            "  [1.08978441 1.36974197 1.09148916 1.53155819 1.52170819]\n",
            "  [1.79942871 1.63197885 1.65973256 1.17769137 1.03116896]]\n",
            "\n",
            " [[1.71858307 1.06593795 1.31221892 1.88194127 1.01249659]\n",
            "  [1.57256212 1.51081406 1.1367094  1.12927702 1.05309469]\n",
            "  [1.20327602 1.18881602 1.99673839 1.27322474 1.13392483]]]\n"
          ]
        }
      ],
      "source": [
        "### [your code here]\n",
        "\n",
        "print(\"Array a:\\n\", a)\n",
        "print(\"\\nArray d (sum of a and c):\\n\", d)"
      ]
    },
    {
      "cell_type": "markdown",
      "metadata": {
        "id": "TX1GPGGvlzrP"
      },
      "source": [
        "\n",
        "### 12. Multiply a and c. Assign the result to e.\n"
      ]
    },
    {
      "cell_type": "code",
      "execution_count": 47,
      "metadata": {
        "colab": {
          "base_uri": "https://localhost:8080/"
        },
        "id": "WryhEMxGlzrP",
        "outputId": "a27e3802-5e85-4603-e6e6-4187e5b4ea5a"
      },
      "outputs": [
        {
          "output_type": "stream",
          "name": "stdout",
          "text": [
            "Array e (product of a and c):\n",
            " [[[0.41854323 0.88837047 0.79197603 0.53890355 0.95529626]\n",
            "  [0.08978441 0.36974197 0.09148916 0.53155819 0.52170819]\n",
            "  [0.79942871 0.63197885 0.65973256 0.17769137 0.03116896]]\n",
            "\n",
            " [[0.71858307 0.06593795 0.31221892 0.88194127 0.01249659]\n",
            "  [0.57256212 0.51081406 0.1367094  0.12927702 0.05309469]\n",
            "  [0.20327602 0.18881602 0.99673839 0.27322474 0.13392483]]]\n"
          ]
        }
      ],
      "source": [
        "### [your code here]\n",
        "e = a * c\n",
        "\n",
        "print(\"Array e (product of a and c):\\n\", e)"
      ]
    },
    {
      "cell_type": "markdown",
      "metadata": {
        "id": "WiE2M-PjlzrQ"
      },
      "source": [
        "\n",
        "\n",
        "### 13. Does e equal to a? Why or why not?\n"
      ]
    },
    {
      "cell_type": "code",
      "execution_count": 48,
      "metadata": {
        "colab": {
          "base_uri": "https://localhost:8080/"
        },
        "id": "s4DWWS3nlzrQ",
        "outputId": "e74a836d-5a82-44d3-8a7a-2408876cc3cf"
      },
      "outputs": [
        {
          "output_type": "stream",
          "name": "stdout",
          "text": [
            "a = \n",
            " [[ 4 16  3]\n",
            " [ 8  5  6]]\n",
            "\n",
            "Multiplication of a and d (e): \n",
            " [[20 32 21]\n",
            " [56 20  0]]\n",
            "\n",
            "Is e equal to a? False\n"
          ]
        }
      ],
      "source": [
        "### [your code here]\n",
        "import numpy as np\n",
        "\n",
        "a = np.array([[4, 16, 3], [8, 5, 6]])\n",
        "e = np.array([[1, 2, 7], [81, 66, 14]])\n",
        "d = np.array([[5, 2, 7], [7, 4, 0]])\n",
        "\n",
        "e = a * d\n",
        "\n",
        "#  if a and e are equal\n",
        "print(\"a = \\n\", a)\n",
        "print(\"\\nMultiplication of a and d (e): \\n\", e)\n",
        "\n",
        "print(\"\\nIs e equal to a?\", np.array_equal(a, e))\n",
        "\n",
        "# e is not a copy of a, but a new matrix resulting from a different mathematical operation."
      ]
    },
    {
      "cell_type": "markdown",
      "metadata": {
        "id": "9u4Yr297lzrR"
      },
      "source": [
        "\n",
        "\n",
        "### 14. Identify the max, min, and mean values in d. Assign those values to variables \"d_max\", \"d_min\", and \"d_mean\"\n"
      ]
    },
    {
      "cell_type": "code",
      "execution_count": 49,
      "metadata": {
        "colab": {
          "base_uri": "https://localhost:8080/"
        },
        "id": "puJTb6F8lzrR",
        "outputId": "16d1aa20-bfdd-4dc5-99cf-8412e1da57d6"
      },
      "outputs": [
        {
          "output_type": "stream",
          "name": "stdout",
          "text": [
            "Max value in d: 7\n",
            "Min value in d: 0\n",
            "Mean value in d: 4.166666666666667\n"
          ]
        }
      ],
      "source": [
        "### [your code here]\n",
        "import numpy as np\n",
        "\n",
        "d_max = np.max(d)\n",
        "\n",
        "d_min = np.min(d)\n",
        "\n",
        "d_mean = np.mean(d)\n",
        "\n",
        "print(\"Max value in d:\", d_max)\n",
        "print(\"Min value in d:\", d_min)\n",
        "print(\"Mean value in d:\", d_mean)\n"
      ]
    },
    {
      "cell_type": "markdown",
      "metadata": {
        "id": "2Vq-UxSalzrS"
      },
      "source": [
        "\n",
        "### 15. Now we want to label the values in d. First create an empty array \"f\" with the same shape (i.e. 2x3x5) as d using `np.empty`.\n"
      ]
    },
    {
      "cell_type": "code",
      "execution_count": 50,
      "metadata": {
        "colab": {
          "base_uri": "https://localhost:8080/"
        },
        "id": "r0_kz8pBlzrS",
        "outputId": "4c70fd36-98d4-40da-e973-b07fe49b372d"
      },
      "outputs": [
        {
          "output_type": "stream",
          "name": "stdout",
          "text": [
            "Array f:\n",
            "[[4.94e-324 9.88e-324 3.46e-323]\n",
            " [4.00e-322 3.26e-322 6.92e-323]]\n"
          ]
        }
      ],
      "source": [
        "### [your code here]\n",
        "import numpy as np\n",
        "\n",
        "f = np.empty(d.shape)\n",
        "\n",
        "print(\"Array f:\")\n",
        "print(f)"
      ]
    },
    {
      "cell_type": "markdown",
      "metadata": {
        "id": "Nt0a3HYtlzrT"
      },
      "source": [
        "\n",
        "\n",
        "\n",
        "### 16. Populate the values in f. For each value in d, if it's larger than d_min but smaller than d_mean, assign 25 to the corresponding value in f.\n",
        "If a value in d is larger than d_mean but smaller than d_max, assign 75 to the corresponding value in f.\n",
        "If a value equals to d_mean, assign 50 to the corresponding value in f.\n",
        "Assign 0 to the corresponding value(s) in f for d_min in d.\n",
        "Assign 100 to the corresponding value(s) in f for d_max in d.\n",
        "In the end, f should have only the following values: 0, 25, 50, 75, and 100.\n",
        "Note: you don't have to use Numpy in this question.\n",
        "\n"
      ]
    },
    {
      "cell_type": "code",
      "execution_count": 51,
      "metadata": {
        "colab": {
          "base_uri": "https://localhost:8080/"
        },
        "id": "-QkxYrGzlzrU",
        "outputId": "a17179d1-ad5a-4eba-9249-cfd5994c4148"
      },
      "outputs": [
        {
          "output_type": "stream",
          "name": "stdout",
          "text": [
            "Original d matrix:\n",
            "[3, 7, 9]\n",
            "[12, 15, 18]\n",
            "[5, 10, 20]\n",
            "\n",
            "Transformed f matrix:\n",
            "[0, 25, 25]\n",
            "[75, 75, 75]\n",
            "[25, 25, 100]\n"
          ]
        }
      ],
      "source": [
        "### [your code here]\n",
        "d = [[3, 7, 9], [12, 15, 18], [5, 10, 20]]\n",
        "\n",
        "flat_d = [value for row in d for value in row]  # Flatten the 2D list\n",
        "d_min = min(flat_d)\n",
        "d_max = max(flat_d)\n",
        "d_mean = sum(flat_d) / len(flat_d)\n",
        "\n",
        "f = []\n",
        "for row in d:\n",
        "    f_row = []\n",
        "    for value in row:\n",
        "        if value == d_min:\n",
        "            f_row.append(0)\n",
        "        elif d_min < value < d_mean:\n",
        "            f_row.append(25)\n",
        "        elif value == d_mean:\n",
        "            f_row.append(50)\n",
        "        elif d_mean < value < d_max:\n",
        "            f_row.append(75)\n",
        "        elif value == d_max:\n",
        "            f_row.append(100)\n",
        "    f.append(f_row)\n",
        "\n",
        "print(\"Original d matrix:\")\n",
        "for row in d:\n",
        "    print(row)\n",
        "\n",
        "print(\"\\nTransformed f matrix:\")\n",
        "for row in f:\n",
        "    print(row)\n"
      ]
    },
    {
      "cell_type": "markdown",
      "metadata": {
        "id": "PNDEjApnlzrV"
      },
      "source": [
        "\n",
        "\n",
        "\n",
        "\n",
        "### 17. Print d and f. Do you have your expected f?\n",
        "For instance, if your d is:\n",
        "array([[[1.85836099, 1.67064465, 1.62576044, 1.40243961, 1.88454931],\n",
        "        [1.75354326, 1.69403643, 1.36729252, 1.61415071, 1.12104981],\n",
        "        [1.72201435, 1.1862918 , 1.87078449, 1.7726778 , 1.88180042]],\n",
        "\n",
        "       [[1.44747908, 1.31673383, 1.02000951, 1.52218947, 1.97066381],\n",
        "        [1.79129243, 1.74983003, 1.96028037, 1.85166831, 1.65450881],\n",
        "        [1.18068344, 1.9587381 , 1.00656599, 1.93402165, 1.73514584]]])\n",
        "\n",
        "Your f should be:\n",
        "array([[[ 75.,  75.,  75.,  25.,  75.],\n",
        "        [ 75.,  75.,  25.,  25.,  25.],\n",
        "        [ 75.,  25.,  75.,  75.,  75.]],\n",
        "\n",
        "       [[ 25.,  25.,  25.,  25., 100.],\n",
        "        [ 75.,  75.,  75.,  75.,  75.],\n",
        "        [ 25.,  75.,   0.,  75.,  75.]]])\n",
        "\n"
      ]
    },
    {
      "cell_type": "code",
      "execution_count": 52,
      "metadata": {
        "colab": {
          "base_uri": "https://localhost:8080/"
        },
        "id": "MKWA-ZsQlzrV",
        "outputId": "46177a1e-bf04-42c7-9aef-927d0d293f48"
      },
      "outputs": [
        {
          "output_type": "stream",
          "name": "stdout",
          "text": [
            "Original d array:\n",
            " [[[1.85836099 1.67064465 1.62576044 1.40243961 1.88454931]\n",
            "  [1.75354326 1.69403643 1.36729252 1.61415071 1.12104981]\n",
            "  [1.72201435 1.1862918  1.87078449 1.7726778  1.88180042]]\n",
            "\n",
            " [[1.44747908 1.31673383 1.02000951 1.52218947 1.97066381]\n",
            "  [1.79129243 1.74983003 1.96028037 1.85166831 1.65450881]\n",
            "  [1.18068344 1.9587381  1.00656599 1.93402165 1.73514584]]]\n",
            "\n",
            "Transformed f array:\n",
            " [[[ 75.  75.  75.  25.  75.]\n",
            "  [ 75.  75.  25.  25.  25.]\n",
            "  [ 75.  25.  75.  75.  75.]]\n",
            "\n",
            " [[ 25.  25.  25.  25. 100.]\n",
            "  [ 75.  75.  75.  75.  75.]\n",
            "  [ 25.  75.   0.  75.  75.]]]\n",
            "\n",
            "Does f match the expected output? True\n"
          ]
        }
      ],
      "source": [
        "### [your code here]\n",
        "import numpy as np\n",
        "\n",
        "d = np.array([[[1.85836099, 1.67064465, 1.62576044, 1.40243961, 1.88454931],\n",
        "               [1.75354326, 1.69403643, 1.36729252, 1.61415071, 1.12104981],\n",
        "               [1.72201435, 1.1862918 , 1.87078449, 1.7726778 , 1.88180042]],\n",
        "\n",
        "              [[1.44747908, 1.31673383, 1.02000951, 1.52218947, 1.97066381],\n",
        "               [1.79129243, 1.74983003, 1.96028037, 1.85166831, 1.65450881],\n",
        "               [1.18068344, 1.9587381 , 1.00656599, 1.93402165, 1.73514584]]])\n",
        "\n",
        "d_min = np.min(d)\n",
        "d_max = np.max(d)\n",
        "d_mean = np.mean(d)\n",
        "\n",
        "f = np.zeros_like(d)\n",
        "\n",
        "for i in range(d.shape[0]):\n",
        "    for j in range(d.shape[1]):\n",
        "        for k in range(d.shape[2]):\n",
        "            value = d[i, j, k]\n",
        "            if value == d_min:\n",
        "                f[i, j, k] = 0\n",
        "            elif d_min < value < d_mean:\n",
        "                f[i, j, k] = 25\n",
        "            elif value == d_mean:\n",
        "                f[i, j, k] = 50\n",
        "            elif d_mean < value < d_max:\n",
        "                f[i, j, k] = 75\n",
        "            elif value == d_max:\n",
        "                f[i, j, k] = 100\n",
        "\n",
        "print(\"Original d array:\\n\", d)\n",
        "print(\"\\nTransformed f array:\\n\", f)\n",
        "\n",
        "expected_f = np.array([[[ 75., 75., 75., 25., 75.],\n",
        "                         [ 75., 75., 25., 25., 25.],\n",
        "                         [ 75., 25., 75., 75., 75.]],\n",
        "\n",
        "                        [[ 25.,  25.,  25.,  25., 100.],\n",
        "                         [ 75.,  75.,  75.,  75.,  75.],\n",
        "                         [ 25.,  75.,   0.,  75.,  75.]]])\n",
        "\n",
        "print(\"\\nDoes f match the expected output?\", np.array_equal(f, expected_f))\n"
      ]
    },
    {
      "cell_type": "markdown",
      "metadata": {
        "id": "AecEEijwlzrW"
      },
      "source": [
        "### 18. Bonus question: instead of using numbers (i.e. 0, 25, 50, 75, and 100), how to use string values\n",
        "(\"A\", \"B\", \"C\", \"D\", and \"E\") to label the array elements? You are expecting the result to be:\n",
        "array([[[ 'D',  'D',  'D',  'B',  'D'],\n",
        "        [ 'D',  'D',  'B',  'B',  'B'],\n",
        "        [ 'D',  'B',  'D',  'D',  'D']],\n",
        "\n",
        "       [[ 'B',  'B',  'B',  'B',  'E'],\n",
        "        [ 'D',  'D',  'D',  'D',  'D'],\n",
        "        [ 'B',  'D',   'A',  'D', 'D']]])\n",
        "Again, you don't need Numpy in this question."
      ]
    },
    {
      "cell_type": "code",
      "execution_count": 53,
      "metadata": {
        "colab": {
          "base_uri": "https://localhost:8080/"
        },
        "id": "w7VunPNllzrW",
        "outputId": "dffdc12b-0f08-4f87-add0-43e01b3ff3a9"
      },
      "outputs": [
        {
          "output_type": "stream",
          "name": "stdout",
          "text": [
            "d array:\n",
            "[[[1.85836099 1.67064465 1.62576044 1.40243961 1.88454931]\n",
            "  [1.75354326 1.69403643 1.36729252 1.61415071 1.12104981]\n",
            "  [1.72201435 1.1862918  1.87078449 1.7726778  1.88180042]]\n",
            "\n",
            " [[1.44747908 1.31673383 1.02000951 1.52218947 1.97066381]\n",
            "  [1.79129243 1.74983003 1.96028037 1.85166831 1.65450881]\n",
            "  [1.18068344 1.9587381  1.00656599 1.93402165 1.73514584]]]\n",
            "\n",
            "f array:\n",
            "[[['D' 'D' 'D' 'B' 'D']\n",
            "  ['D' 'D' 'B' 'B' 'B']\n",
            "  ['D' 'B' 'D' 'D' 'D']]\n",
            "\n",
            " [['B' 'B' 'B' 'B' 'E']\n",
            "  ['D' 'D' 'D' 'D' 'D']\n",
            "  ['B' 'D' 'A' 'D' 'D']]]\n"
          ]
        }
      ],
      "source": [
        "### [your code here]\n",
        "import numpy as np\n",
        "\n",
        "d = np.array([[[1.85836099, 1.67064465, 1.62576044, 1.40243961, 1.88454931],\n",
        "               [1.75354326, 1.69403643, 1.36729252, 1.61415071, 1.12104981],\n",
        "               [1.72201435, 1.1862918 , 1.87078449, 1.7726778 , 1.88180042]],\n",
        "\n",
        "              [[1.44747908, 1.31673383, 1.02000951, 1.52218947, 1.97066381],\n",
        "               [1.79129243, 1.74983003, 1.96028037, 1.85166831, 1.65450881],\n",
        "               [1.18068344, 1.9587381 , 1.00656599, 1.93402165, 1.73514584]]])\n",
        "\n",
        "d_max = np.max(d)\n",
        "d_min = np.min(d)\n",
        "d_mean = np.mean(d)\n",
        "f = np.empty(d.shape, dtype=object)\n",
        "\n",
        "for i in range(d.shape[0]):\n",
        "    for j in range(d.shape[1]):\n",
        "        for k in range(d.shape[2]):\n",
        "            value = d[i, j, k]\n",
        "            if value == d_mean:\n",
        "                f[i, j, k] = \"C\"\n",
        "            elif value == d_max:\n",
        "                f[i, j, k] = \"E\"\n",
        "            elif value == d_min:\n",
        "                f[i, j, k] = \"A\"\n",
        "            elif d_min < value < d_mean:\n",
        "                f[i, j, k] = \"B\"\n",
        "            elif d_mean < value < d_max:\n",
        "                f[i, j, k] = \"D\"\n",
        "\n",
        "print(\"d array:\")\n",
        "print(d)\n",
        "\n",
        "print(\"\\nf array:\")\n",
        "print(f)"
      ]
    }
  ],
  "metadata": {
    "kernelspec": {
      "display_name": "Python 3",
      "language": "python",
      "name": "python3"
    },
    "language_info": {
      "codemirror_mode": {
        "name": "ipython",
        "version": 3
      },
      "file_extension": ".py",
      "mimetype": "text/x-python",
      "name": "python",
      "nbconvert_exporter": "python",
      "pygments_lexer": "ipython3",
      "version": "3.8.0"
    },
    "colab": {
      "provenance": []
    }
  },
  "nbformat": 4,
  "nbformat_minor": 0
}